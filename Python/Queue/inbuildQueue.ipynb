{
 "cells": [
  {
   "cell_type": "markdown",
   "metadata": {},
   "source": [
    "## Queue in Python\n",
    "\n"
   ]
  },
  {
   "cell_type": "code",
   "execution_count": 1,
   "metadata": {},
   "outputs": [],
   "source": [
    "from collections import deque"
   ]
  },
  {
   "cell_type": "markdown",
   "metadata": {},
   "source": [
    "##### Creating in-Build queue in python"
   ]
  },
  {
   "cell_type": "code",
   "execution_count": 4,
   "metadata": {},
   "outputs": [
    {
     "name": "stdout",
     "output_type": "stream",
     "text": [
      "deque(['name', 'age'])\n"
     ]
    }
   ],
   "source": [
    "Q = deque(['name','age'])\n",
    "print(Q)"
   ]
  },
  {
   "cell_type": "code",
   "execution_count": 7,
   "metadata": {},
   "outputs": [
    {
     "name": "stdout",
     "output_type": "stream",
     "text": [
      "<class 'collections.deque'>\n"
     ]
    }
   ],
   "source": [
    "print(type(Q))"
   ]
  },
  {
   "cell_type": "markdown",
   "metadata": {},
   "source": [
    "#### Appending items\n",
    "##### append() : This function is used to insert the value in its argument to the right of the deque.\n",
    "##### appendleft() : This function is used to insert the value in its argument to the left end of the deque.\n"
   ]
  },
  {
   "cell_type": "code",
   "execution_count": 14,
   "metadata": {},
   "outputs": [
    {
     "name": "stdout",
     "output_type": "stream",
     "text": [
      "Deque :  deque([1, 2, 3])\n",
      "\n",
      " The deque after appending at right is : \n",
      "deque([1, 2, 3, 4])\n",
      "\n",
      " The deque after appending at left is : \n",
      "deque([6, 1, 2, 3, 4])\n"
     ]
    }
   ],
   "source": [
    "Q1 = deque([1,2,3])\n",
    "print(\"Deque : \",Q1)\n",
    "\n",
    "Q1.append(4)\n",
    "print(\"\\n The deque after appending at right is : \")\n",
    "print(Q1)\n",
    "\n",
    "Q1.appendleft(6)\n",
    "\n",
    "print(\"\\n The deque after appending at left is : \")\n",
    "print(Q1)"
   ]
  },
  {
   "cell_type": "markdown",
   "metadata": {},
   "source": [
    "#### Popping items Efficiently\n",
    "##### pop(): This function is used to delete an argument from the right end side of the deque.\n",
    "##### popleft() : This function is used to delete an argument from the left end of the deque."
   ]
  },
  {
   "cell_type": "code",
   "execution_count": 1,
   "metadata": {},
   "outputs": [
    {
     "ename": "ValueError",
     "evalue": "invalid literal for int() with base 10: ''",
     "output_type": "error",
     "traceback": [
      "\u001b[1;31m---------------------------------------------------------------------------\u001b[0m",
      "\u001b[1;31mValueError\u001b[0m                                Traceback (most recent call last)",
      "\u001b[1;32mc:\\Users\\Amanj\\OneDrive\\Documents\\GitHub\\Programming_Basics\\Python\\Queue\\inbuildQueue.ipynb Cell 9\u001b[0m line \u001b[0;36m5\n\u001b[0;32m      <a href='vscode-notebook-cell:/c%3A/Users/Amanj/OneDrive/Documents/GitHub/Programming_Basics/Python/Queue/inbuildQueue.ipynb#X11sZmlsZQ%3D%3D?line=0'>1</a>\u001b[0m \u001b[39m## Read input as specified in the question\u001b[39;00m\n\u001b[0;32m      <a href='vscode-notebook-cell:/c%3A/Users/Amanj/OneDrive/Documents/GitHub/Programming_Basics/Python/Queue/inbuildQueue.ipynb#X11sZmlsZQ%3D%3D?line=1'>2</a>\u001b[0m \u001b[39m## Print the required output in given format\u001b[39;00m\n\u001b[1;32m----> <a href='vscode-notebook-cell:/c%3A/Users/Amanj/OneDrive/Documents/GitHub/Programming_Basics/Python/Queue/inbuildQueue.ipynb#X11sZmlsZQ%3D%3D?line=4'>5</a>\u001b[0m n \u001b[39m=\u001b[39m \u001b[39mint\u001b[39;49m(\u001b[39minput\u001b[39;49m())\n\u001b[0;32m      <a href='vscode-notebook-cell:/c%3A/Users/Amanj/OneDrive/Documents/GitHub/Programming_Basics/Python/Queue/inbuildQueue.ipynb#X11sZmlsZQ%3D%3D?line=6'>7</a>\u001b[0m i \u001b[39m=\u001b[39m \u001b[39m1\u001b[39m\n\u001b[0;32m      <a href='vscode-notebook-cell:/c%3A/Users/Amanj/OneDrive/Documents/GitHub/Programming_Basics/Python/Queue/inbuildQueue.ipynb#X11sZmlsZQ%3D%3D?line=8'>9</a>\u001b[0m \u001b[39mwhile\u001b[39;00m i \u001b[39m<\u001b[39m\u001b[39m=\u001b[39m n:\n",
      "\u001b[1;31mValueError\u001b[0m: invalid literal for int() with base 10: ''"
     ]
    }
   ],
   "source": [
    "## Read input as specified in the question\n",
    "## Print the required output in given format\n",
    "\n",
    "\n",
    "n = int(input())\n",
    "\n",
    "i = 1\n",
    "\n",
    "while i <= n:\n",
    "    s = n-i\n",
    "    k = 1\n",
    "    while k  <= s:\n",
    "        print(\" \",end = '')\n",
    "        k = k+1\n",
    "    j = 1\n",
    "    while j <= i:\n",
    "        print(j,end = \"\")\n",
    "        j = j+1\n",
    "    print()\n",
    "    i = i+1\n"
   ]
  },
  {
   "cell_type": "code",
   "execution_count": null,
   "metadata": {},
   "outputs": [],
   "source": [
    "\n",
    "## Read input as specified in the question.\n",
    "## Print output as specified in the question.\n",
    "n = int(input())\n",
    "\n",
    "i = 1\n",
    "\n",
    "while i <= n:\n",
    "    s  = n-i\n",
    "    l = 1\n",
    "    while l <= s:\n",
    "        print(\" \",end = \"\")\n",
    "        l = l+1\n",
    "    j = 1\n",
    "    while j <= i:\n",
    "        print('*', end = \"\") \n",
    "        j = j+1\n",
    "    \n",
    "    k = i-1\n",
    "    while k > 0:\n",
    "        print(\"*\",end = \"\")\n",
    "        k = k-1\n",
    "    print()\n",
    "    i = i+1"
   ]
  },
  {
   "cell_type": "code",
   "execution_count": null,
   "metadata": {},
   "outputs": [],
   "source": [
    "# Read input as specified in the question.\n",
    "## Print output as specified in the question.\n",
    "\n",
    "n = int(input())\n",
    "\n",
    "i = 1\n",
    "while i <= n:\n",
    "    s = n-i\n",
    "    l = 1\n",
    "    while l <= s:\n",
    "        print(\" \",end = \"\")\n",
    "        l = l+1\n",
    "    j = i\n",
    "    count = i\n",
    "    while count > 0:\n",
    "        print(j,end = \"\")\n",
    "        j =j+1\n",
    "        count = count - 1\n",
    "    k = j-1\n",
    "    while k > i:\n",
    "        print(k-1,end=\"\")\n",
    "        k = k-1\n",
    "    print()\n",
    "    i = i+1"
   ]
  },
  {
   "cell_type": "code",
   "execution_count": 1,
   "metadata": {},
   "outputs": [
    {
     "name": "stdout",
     "output_type": "stream",
     "text": [
      "0 1 2 3 4 "
     ]
    }
   ],
   "source": [
    "for i in range(5):\n",
    "    print(i,end= \" \")\n",
    "    "
   ]
  },
  {
   "cell_type": "code",
   "execution_count": 5,
   "metadata": {},
   "outputs": [
    {
     "name": "stdout",
     "output_type": "stream",
     "text": [
      "12451245"
     ]
    }
   ],
   "source": [
    "s = \"abcd\"\n",
    "s.upper()\n",
    "print(s)"
   ]
  }
 ],
 "metadata": {
  "kernelspec": {
   "display_name": "Python 3",
   "language": "python",
   "name": "python3"
  },
  "language_info": {
   "codemirror_mode": {
    "name": "ipython",
    "version": 3
   },
   "file_extension": ".py",
   "mimetype": "text/x-python",
   "name": "python",
   "nbconvert_exporter": "python",
   "pygments_lexer": "ipython3",
   "version": "3.11.7"
  },
  "orig_nbformat": 4
 },
 "nbformat": 4,
 "nbformat_minor": 2
}
