{
 "cells": [
  {
   "cell_type": "code",
   "execution_count": null,
   "metadata": {},
   "outputs": [],
   "source": [
    "ans = []\n",
    "def isValid(row,col,n,visited,arr):\n",
    "    if row < 0 or row >= n or col < 0 or col >= n or visited[row][col] == True or arr[row][col] == 0:\n",
    "        return False\n",
    "    return True\n",
    "\n",
    "def move(row,col,arr,visited,n,pathTaken):\n",
    "    global ans\n",
    "    if arr[row][col] == 0:\n",
    "        return\n",
    "\n",
    "    if row == n-1 and col == n-1:\n",
    "        ans.append(pathTaken)\n",
    "        return\n",
    "\n",
    "    drow = [1, 0, 0, -1]\n",
    "    dcol = [0, -1, 1, 0]\n",
    "    dpath = ['D', 'L', 'R', 'U']\n",
    "\n",
    "    for i in range(4):\n",
    "        n_row = row + drow[i]\n",
    "        n_col = row + dcol[i]\n",
    "        if isValid(n_row,n_col,n,visited,arr):\n",
    "            visited[n_row][n_col] = True\n",
    "            pathTaken += dpath[i]\n",
    "\n",
    "            move(n_row,n_col,arr,visited,n,pathTaken)\n",
    "\n",
    "            visited[n_row][n_col] = False\n",
    "            pathTaken = pathTaken[:-1]\n",
    "\n",
    "\n",
    "def searchMaze(arr,n):\n",
    "    global ans\n",
    "    ans = []\n",
    "    visited = [[False for _ in range(n)] for _ in range(n)]\n",
    "    visited[0][0] = True\n",
    "    move(0,0,arr,visited,n,\"\")\n",
    "    return ans\n",
    "\n"
   ]
  }
 ],
 "metadata": {
  "language_info": {
   "name": "python"
  }
 },
 "nbformat": 4,
 "nbformat_minor": 2
}
