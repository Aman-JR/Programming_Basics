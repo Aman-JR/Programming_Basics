{
 "cells": [
  {
   "cell_type": "markdown",
   "metadata": {},
   "source": [
    "#### REMOVE X"
   ]
  },
  {
   "cell_type": "code",
   "execution_count": 2,
   "metadata": {},
   "outputs": [
    {
     "name": "stdout",
     "output_type": "stream",
     "text": [
      "None\n"
     ]
    }
   ],
   "source": [
    "# Remove x from the string\n",
    "\n",
    "def helper(string,new_string):\n",
    "    if len(string) <= 0:\n",
    "        return new_string\n",
    "    if string[0] != 'x' or string[0] != 'X':\n",
    "        new_string += string[0]\n",
    "    return helper(string[1:],new_string)\n",
    "def removeX(string):\n",
    "    # As we know strings are not mutable in python we are making helper function\n",
    "    new_string = \"\"\n",
    "    ans = helper(string,new_string)\n",
    "    return ans\n",
    "\n",
    "string = input()\n",
    "ans = removeX(string)\n",
    "print(ans)"
   ]
  }
 ],
 "metadata": {
  "kernelspec": {
   "display_name": "Python 3",
   "language": "python",
   "name": "python3"
  },
  "language_info": {
   "codemirror_mode": {
    "name": "ipython",
    "version": 3
   },
   "file_extension": ".py",
   "mimetype": "text/x-python",
   "name": "python",
   "nbconvert_exporter": "python",
   "pygments_lexer": "ipython3",
   "version": "3.11.7"
  }
 },
 "nbformat": 4,
 "nbformat_minor": 2
}
