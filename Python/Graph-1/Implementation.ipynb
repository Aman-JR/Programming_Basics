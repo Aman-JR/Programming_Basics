{
 "cells": [
  {
   "cell_type": "code",
   "execution_count": null,
   "metadata": {},
   "outputs": [],
   "source": [
    "# Using Adjacency List\n"
   ]
  },
  {
   "cell_type": "markdown",
   "metadata": {},
   "source": [
    "#### DFS"
   ]
  },
  {
   "cell_type": "code",
   "execution_count": 4,
   "metadata": {},
   "outputs": [
    {
     "name": "stdout",
     "output_type": "stream",
     "text": [
      "[[0, 1, 1, 0, 0], [1, 0, 0, 1, 0], [1, 0, 0, 1, 1], [0, 1, 1, 0, 0], [0, 0, 1, 0, 0]]\n",
      "0\n",
      "1\n",
      "3\n",
      "2\n",
      "4\n"
     ]
    }
   ],
   "source": [
    "# Using Adjacency Matrix\n",
    "class Graph:\n",
    "    def __init__(self,nVertices):\n",
    "        self.nVertices = nVertices\n",
    "        self.adjMatrix = [[0 for i in range(nVertices)]for i in range(nVertices)]\n",
    "\n",
    "    def addEdge(self,v1,v2):\n",
    "        self.adjMatrix[v1][v2] = 1\n",
    "        self.adjMatrix[v2][v1] = 1\n",
    "\n",
    "    def __dfsHelper(self,visited,sv):\n",
    "        print(sv)\n",
    "        visited[sv] = True\n",
    "\n",
    "        for i in range(self.nVertices):\n",
    "            if self.adjMatrix[sv][i] > 0 and visited[i] == False:\n",
    "                self.__dfsHelper(visited,i)\n",
    "\n",
    "    def dfs(self):\n",
    "        visited = [False for i in range(self.nVertices)]\n",
    "        self.__dfsHelper(visited,0)\n",
    "\n",
    "    def removeEdge(self,v1,v2):\n",
    "        if self.containsEdge(v1,v2) is False:\n",
    "            return\n",
    "        self.adjMatrix[v1][v2] = 0\n",
    "        self.adjMatrix[v2][v1] = 0\n",
    "\n",
    "    def containsEdge(self,v1,v2):\n",
    "        return True if self.adjMatrix[v1][v2] > 0 else False\n",
    "\n",
    "    def __str__(self):\n",
    "        return str(self.adjMatrix)\n",
    "\n",
    "g = Graph(5)\n",
    "g.addEdge(0,1)\n",
    "g.addEdge(1,3)\n",
    "g.addEdge(2,4)\n",
    "g.addEdge(2,3)\n",
    "g.addEdge(0,2)\n",
    "print(g)\n",
    "g.dfs()"
   ]
  },
  {
   "cell_type": "markdown",
   "metadata": {},
   "source": [
    "#### BFS"
   ]
  },
  {
   "cell_type": "code",
   "execution_count": null,
   "metadata": {},
   "outputs": [],
   "source": [
    "\n",
    "class BFSGraph:\n",
    "    def __init__(self,nVertices):\n",
    "        self.nVertices = nVertices\n",
    "        self.adjMatrix = [[0 for i in range(nVertices)] for j in range(nVertices)]\n",
    "\n",
    "    def "
   ]
  }
 ],
 "metadata": {
  "kernelspec": {
   "display_name": "Python 3",
   "language": "python",
   "name": "python3"
  },
  "language_info": {
   "codemirror_mode": {
    "name": "ipython",
    "version": 3
   },
   "file_extension": ".py",
   "mimetype": "text/x-python",
   "name": "python",
   "nbconvert_exporter": "python",
   "pygments_lexer": "ipython3",
   "version": "3.11.7"
  }
 },
 "nbformat": 4,
 "nbformat_minor": 2
}
