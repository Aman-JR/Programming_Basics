{
 "cells": [
  {
   "cell_type": "code",
   "execution_count": 2,
   "metadata": {},
   "outputs": [
    {
     "name": "stdout",
     "output_type": "stream",
     "text": [
      "[[0, 1, 1, 0, 0], [1, 0, 1, 1, 0], [1, 1, 0, 0, 1], [0, 1, 0, 0, 0], [0, 0, 1, 0, 0]]\n",
      "0\n",
      "1\n",
      "2\n",
      "4\n",
      "3\n"
     ]
    }
   ],
   "source": [
    "# DFS Code using adjacency Matrix\n",
    "\n",
    "class Graph:\n",
    "\n",
    "    def __init__(self,nVertices):\n",
    "        self.nVertices = nVertices\n",
    "        self.adjMatrix = [[0 for i in range(nVertices)] for j in range(nVertices)]\n",
    "\n",
    "    def addEdge(self,v1,v2):\n",
    "        self.adjMatrix[v1][v2] = 1\n",
    "        self.adjMatrix[v2][v1] = 1\n",
    "\n",
    "    def removeEdge(self,v1,v2):\n",
    "        if self.isValid(v1,v2) == False:\n",
    "            return\n",
    "        self.adjMatrix[v1][v2] = 0\n",
    "        self.adjMatrix[v2][v1] = 0\n",
    "\n",
    "    def __dfsHelper(self,visited,sv):\n",
    "        print(sv)\n",
    "        visited[sv] = True\n",
    "        for i in range(self.nVertices):\n",
    "            if self.adjMatrix[sv][i] > 0 and visited[i] == False:\n",
    "                self.__dfsHelper(visited,i)\n",
    "\n",
    "    def dfs(self):\n",
    "        visited = [False for i in range(self.nVertices)]\n",
    "        sv = 0\n",
    "        self.__dfsHelper(visited,sv)\n",
    "\n",
    "    def isValid(self,v1,v2):\n",
    "        return True if self.adjMatrix[v1][v2] > 0 else False\n",
    "    def __str__(self):\n",
    "        return str(self.adjMatrix)\n",
    "\n",
    "g = Graph(5)\n",
    "g.addEdge(0,1)\n",
    "g.addEdge(1,2)\n",
    "g.addEdge(1,3)\n",
    "g.addEdge(2,0)\n",
    "g.addEdge(2,4)\n",
    "print(g)\n",
    "g.dfs()"
   ]
  }
 ],
 "metadata": {
  "kernelspec": {
   "display_name": "Python 3",
   "language": "python",
   "name": "python3"
  },
  "language_info": {
   "codemirror_mode": {
    "name": "ipython",
    "version": 3
   },
   "file_extension": ".py",
   "mimetype": "text/x-python",
   "name": "python",
   "nbconvert_exporter": "python",
   "pygments_lexer": "ipython3",
   "version": "3.11.7"
  }
 },
 "nbformat": 4,
 "nbformat_minor": 2
}
