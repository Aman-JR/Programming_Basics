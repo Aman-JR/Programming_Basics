{
 "cells": [
  {
   "cell_type": "code",
   "execution_count": 2,
   "metadata": {},
   "outputs": [
    {
     "name": "stdout",
     "output_type": "stream",
     "text": [
      "Recursion Error as there is no break statement.\n"
     ]
    }
   ],
   "source": [
    "# Problem statement\n",
    "# What will be the output of following code?\n",
    "\n",
    "# def func(num):\n",
    "#     return func(num-1)\n",
    "# num = 5\n",
    "# ans = func(num-1)\n",
    "# print(ans)\n",
    "\n",
    "print(\"Recursion Error as there is no break statement.\")"
   ]
  },
  {
   "cell_type": "code",
   "execution_count": 1,
   "metadata": {},
   "outputs": [
    {
     "name": "stdout",
     "output_type": "stream",
     "text": [
      "5,3,1\n"
     ]
    }
   ],
   "source": [
    "# What will be the output of this code?\n",
    "\n",
    "# def printNumbers(n):\n",
    "#     if(n<0):\n",
    "#         return\n",
    "#     print(n,end=\" \")\n",
    "#     printNumbers(n-2)\n",
    "# num = 5\n",
    "# printNumbers(num)\n",
    "\n",
    "print(\"5,3,1\")"
   ]
  },
  {
   "cell_type": "code",
   "execution_count": 3,
   "metadata": {},
   "outputs": [
    {
     "name": "stdout",
     "output_type": "stream",
     "text": [
      "16\n"
     ]
    }
   ],
   "source": [
    "# What will be the output of following code?\n",
    "\n",
    "# def fun(n):\n",
    "#     if(n == 4):\n",
    "#         return n\n",
    "#     else:\n",
    "#         return 2*fun(n+1)\n",
    "# print(fun(2))\n",
    "\n",
    "print(16)"
   ]
  }
 ],
 "metadata": {
  "kernelspec": {
   "display_name": "Python 3",
   "language": "python",
   "name": "python3"
  },
  "language_info": {
   "codemirror_mode": {
    "name": "ipython",
    "version": 3
   },
   "file_extension": ".py",
   "mimetype": "text/x-python",
   "name": "python",
   "nbconvert_exporter": "python",
   "pygments_lexer": "ipython3",
   "version": "3.11.7"
  }
 },
 "nbformat": 4,
 "nbformat_minor": 2
}
