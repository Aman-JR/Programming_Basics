{
 "cells": [
  {
   "cell_type": "markdown",
   "metadata": {},
   "source": [
    "#### Problem statement\n",
    "- Given an array of length N and an integer x, you need to find if x is present in the array or not. Return true or false.\n",
    "- Do this recursively.\n",
    "- Detailed explanation ( Input/output format, Notes, Images )\n",
    "- Input Format :\n",
    "- Line 1 : An Integer N i.e. size of array\n",
    "- Line 2 : N integers which are elements of the array, separated by spaces\n",
    "- Line 3 : Integer x\n",
    "- Output Format : 'true' or 'false'"
   ]
  },
  {
   "cell_type": "code",
   "execution_count": 2,
   "metadata": {},
   "outputs": [
    {
     "name": "stdout",
     "output_type": "stream",
     "text": [
      "true\n"
     ]
    }
   ],
   "source": [
    "def checkNumber(arr, x):\n",
    "    # Please add your code here\n",
    "    if len(arr) == 1 and arr[0] != x:\n",
    "        return False\n",
    "    if x == arr[0]:\n",
    "        return True\n",
    "    return checkNumber(arr[1:],x)\n",
    "\n",
    "n = int(input())\n",
    "arr = [int(x) for x in input().split()]\n",
    "x = int(input())\n",
    "if checkNumber(arr,x):\n",
    "    print('true')\n",
    "else:\n",
    "    print('false')"
   ]
  }
 ],
 "metadata": {
  "kernelspec": {
   "display_name": "Python 3",
   "language": "python",
   "name": "python3"
  },
  "language_info": {
   "codemirror_mode": {
    "name": "ipython",
    "version": 3
   },
   "file_extension": ".py",
   "mimetype": "text/x-python",
   "name": "python",
   "nbconvert_exporter": "python",
   "pygments_lexer": "ipython3",
   "version": "3.11.7"
  }
 },
 "nbformat": 4,
 "nbformat_minor": 2
}
