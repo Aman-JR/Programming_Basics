{
 "cells": [
  {
   "cell_type": "markdown",
   "metadata": {},
   "source": [
    "### LAST INDEX OF X\n",
    "- Problem statement\n",
    "- Given an array of length N and an integer x, you need to find and return the last index of integer x present in the array. Return -1 if it is not present in the array.\n",
    "- Last index means - if x is present multiple times in the array, return the index at which x comes last in the array.\n",
    "- You should start traversing your array from 0, not from (N - 1).\n",
    "- Do this recursively. Indexing in the array starts from 0."
   ]
  },
  {
   "cell_type": "code",
   "execution_count": 10,
   "metadata": {},
   "outputs": [
    {
     "name": "stdout",
     "output_type": "stream",
     "text": [
      "ans =  1\n"
     ]
    }
   ],
   "source": [
    "\n",
    "## Read input as specified in the question.\n",
    "## Print output as specified in the question.\n",
    "\n",
    "def find(arr,size,x):\n",
    "    if len(arr) <= 0:\n",
    "        return -1\n",
    "    if arr[0] == x:\n",
    "        return len(arr)\n",
    "    return find(arr[1:],size,x)\n",
    "\n",
    "def LastIndex(arr,x):\n",
    "    ans = find(arr,len(arr),x)\n",
    "    print(ans,len(arr))\n",
    "    return len(arr) - ans\n",
    "\n",
    "n = int(input())\n",
    "arr = [int(x) for x in input().split()]\n",
    "x = int(input())\n",
    "\n",
    "ans = LastIndex(arr,x)\n",
    "print('ans = ',ans)"
   ]
  }
 ],
 "metadata": {
  "kernelspec": {
   "display_name": "Python 3",
   "language": "python",
   "name": "python3"
  },
  "language_info": {
   "codemirror_mode": {
    "name": "ipython",
    "version": 3
   },
   "file_extension": ".py",
   "mimetype": "text/x-python",
   "name": "python",
   "nbconvert_exporter": "python",
   "pygments_lexer": "ipython3",
   "version": "3.11.7"
  }
 },
 "nbformat": 4,
 "nbformat_minor": 2
}
