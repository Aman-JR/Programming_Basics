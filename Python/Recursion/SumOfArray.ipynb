{
 "cells": [
  {
   "cell_type": "markdown",
   "metadata": {},
   "source": [
    "#### Problem statement\n",
    "- Given an array of length N, you need to find and return the sum of all elements of the array.\n",
    "- Do this recursively.\n",
    "- Detailed explanation ( Input/output format, Notes, Images )\n",
    "- Input Format :\n",
    "- Line 1 : An Integer N i.e. size of array\n",
    "- Line 2 : N integers which are elements of the array, separated by spaces\n",
    "- Output Format : Sum"
   ]
  },
  {
   "cell_type": "code",
   "execution_count": 4,
   "metadata": {},
   "outputs": [
    {
     "name": "stdout",
     "output_type": "stream",
     "text": [
      "15\n"
     ]
    }
   ],
   "source": [
    "def sumArray(arr):\n",
    "    # Please add your code here\n",
    "    if len(arr) == 1:\n",
    "        return arr[0]\n",
    "    return arr[0] + sumArray(arr[1:])\n",
    "\n",
    "n = int(input())\n",
    "arr = [int(x) for x in input().split()]\n",
    "ans = sumArray(arr)\n",
    "print(ans)"
   ]
  }
 ],
 "metadata": {
  "kernelspec": {
   "display_name": "Python 3",
   "language": "python",
   "name": "python3"
  },
  "language_info": {
   "codemirror_mode": {
    "name": "ipython",
    "version": 3
   },
   "file_extension": ".py",
   "mimetype": "text/x-python",
   "name": "python",
   "nbconvert_exporter": "python",
   "pygments_lexer": "ipython3",
   "version": "3.11.7"
  }
 },
 "nbformat": 4,
 "nbformat_minor": 2
}
